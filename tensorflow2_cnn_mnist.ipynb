{
 "cells": [
  {
   "cell_type": "code",
   "execution_count": 1,
   "metadata": {},
   "outputs": [],
   "source": [
    "# 컨볼루션(Convolution): 두 개의 함수 f, g가 있을 때 적분변수에 대하여 하나의 함수를 반전하고, 시간 t만큼 이동시킨 후에, 다른 하나의 함수와 곱한 결과를 전체 구간에서 적분하는 것을 의미함\n",
    "\n",
    "# 위키백과: 합성곱, 하나의 함수와 또 다른 함수를 반전 이동한 값을 곱한 다음, 구간에 대해 적분하여 새로운 함수를 구하는 수학 연산자\n",
    "\n",
    "# 왜 필요할까? 1) 입력과 출력이 있는 기본적인 시스템에서, 어떠한 출력값이 있는데, 이 값은 지금 현재에만 영향을 받는 것이 아니라 이전의 입력값들에도 영향을 받음, 따라서 이러한 이전의 값과 현재의 값의 연산을 하기 위해 컨볼루션 필요\n",
    "# 2) 입력된 신호는 시스템의 전달함수와 컨볼루션되어 출력 신호 생성, 두 개의 다른 시스템이 연결되어 있을 경우 두 개의 시스템의 전달함수의 컨볼루션이 새로운 시스템의 전달함수가 됨... 음...\n",
    "\n",
    "# 다른 내용: 떨어뜨린 공의 교훈.. 어떤 높이에서 땅에 공을 떨어뜨릴 때 이 공은 오직 한 차원에서만 움직인다고 가정, 공을 떨어뜨렸을 때 공이 떨어진 위치에서 다시 공을 집어서 한 번 더 떨어뜨릴 경우 공이 떨어진 거리를 c라고.. c에 도달할 확률은 몇?\n",
    "# 공을 떨어뜨릴 때 시작 위치에서 떨어진 지점을 a, 확률분포를 f, a지점에 도달할 확률은 f(a)\n",
    "# a지점에서 공을 주워 다시 떨어뜨릴 때 지점을 b, 확률분포를 g, b지점에 도달할 확률은 g(b)\n",
    "# 만약에 첫 번째로 공을 떨어뜨렸을 때 결과를 고정값이라 본다면, 거리 a는 알 수 있음?... 최종적으로 간 거리 c도 고정값이라 본다면 a+b=c 이므로 b도 고정시킬 수 있음, 그러면 a지점, b지점에 도달할 확률이 고정, c에 도달할 확률을 f(a)·g(b)로 정리\n",
    "# 그런데~ 최종거리 c에 도달할 수 있는 방법은 다양함. f(a)·g(b)이긴 한데, a와 b는 여러개... 따라서 c에 도달할 확률이 이 여러개들의 합으로 표현 가능\n",
    "# 그래서! f*g(c) = ∑ f(a)·g(b) = ∑ f(a)·g(c-a)\n",
    "# https://dkeemin.com/%EC%BB%A8%EB%B3%BC%EB%A3%A8%EC%85%98convolution-%EC%A0%95%EC%9D%98%EB%A5%BC-%EC%89%BD%EA%B2%8C-%EC%9D%B4%ED%95%B4%ED%95%B4%EB%B3%B4%EC%9E%90/\n",
    "\n",
    "# 다시 수업으로 돌아와서\n",
    "# 컨볼루션은 데이터 관점에서 곱셈과 덧셈\n",
    "# 곱셈: 데이터 관점에서 곱셈 연산은 원본 데이터 또는 입력 데이터에 변화를 주어 출력 데이터를 만들어 내는 역할을 수행, 원본 데이터 f(x)에 변화를 주기 위해 g(x-t)를 곱해준다..\n",
    "# 덧셈: 덧셈 연산은 데이터의 평균을 구한다는 의미를 내포하고 있음\n",
    "# 컨볼루션: 원본 데이터 또는 입력 데이터에 변화를 주어서, 그 변화된 값들의 평균을 구한다는 의미를 내포\n",
    "# g(x-t)는 시간 전이, time shift를 의미\n",
    "# 데이터 관점에서 컨볼루션?\n",
    "# 해석1: 시간의 흐름에 따라 데이터 g(x)가 이동하면서, 입력데이터 f(x)를 평균적으로 얼마나 변화시키는지 나타내는 것\n",
    "# 해석2: 시간의 흐름에 따라 움직이는 데이터 g(x)에 의해서 입력데이터 f(x)가 평균적으로 얼마나 변하는지 나타내느 것"
   ]
  },
  {
   "cell_type": "code",
   "execution_count": 1,
   "metadata": {},
   "outputs": [],
   "source": [
    "# CNN 아키텍처 비교(NN vs. CNN)\n",
    "# 은닉층에 해당하는 부분이 여러 개의 컨볼루션층과 완전연결층으로 대체\n",
    "# 컨볼루션층: conv / relu / pooling\n",
    "# conv: 입력데이터와 가중치들의 집합체인 다양한 필터와의 컨볼루션 연산을 통해 입력데이터의 특징을 추출하는 역할을 수행\n",
    "# 말은 어렵게 했지만 가중치들의 집합체를 특징(feature)이라고 하는 것 같음..\n",
    "# pooling: 입력정보를 최대값, 최소값, 평균값 등으로 압축하여 데이터 연산량을 줄여주는 역할\n",
    "\n",
    "# 패딩(padding): 컨볼루션 연산을 수행하기 전에 입력데이터 주변을 특정값(예를 들면 0)으로 채우는 것\n",
    "# 컨볼루션 연산을 수행하면 데이터 크기가 줄어드는 단점, 이를 방지하기 위해 패딩 사용 "
   ]
  },
  {
   "cell_type": "code",
   "execution_count": 3,
   "metadata": {},
   "outputs": [
    {
     "name": "stdout",
     "output_type": "stream",
     "text": [
      "(60000, 28, 28, 1) (10000, 28, 28, 1)\n",
      "(60000,) (10000,)\n"
     ]
    }
   ],
   "source": [
    "# CNN MNIST\n",
    "# CNN 구조는 특징추출기 Feature Extractor와 분류기 Classifier가 합쳐져 있는 형태\n",
    "# 특징추출기: 컨볼루션 레이어와 풀링 레이어 다양한 조합으로 구성, 이미지 데이터의 특징을 추출하고 압축\n",
    "# 분류기: 완전연결층인 Dense 레이어와 과적합을 방지하기 위한 Dropout 레이어 등 다양한 조함, 정답을 분류하는 역할 수행\n",
    "\n",
    "# MNIST 데이터 불러오기 및 정규화\n",
    "import numpy as np\n",
    "import tensorflow as tf\n",
    "from tensorflow.keras.datasets import mnist\n",
    "from tensorflow.keras.models import Sequential\n",
    "from tensorflow.keras.layers import Conv2D, MaxPool2D\n",
    "from tensorflow.keras.layers import Flatten, Dense, Dropout\n",
    "\n",
    "(x_train, y_train), (x_test, y_test) = mnist.load_data()\n",
    "\n",
    "# 텐서로 변환(높이, 너비, 채널 형태의 3차원): CNN에서는 반드시 이렇게 변환해줘야함..\n",
    "x_train = x_train.reshape(-1, 28, 28, 1)\n",
    "x_test = x_test.reshape(-1, 28, 28, 1)\n",
    "\n",
    "print(x_train.shape, x_test.shape)\n",
    "print(y_train.shape, y_test.shape)\n",
    "\n",
    "# 정규화\n",
    "x_train = x_train.astype(np.float32) / 255.0\n",
    "x_test = x_test.astype(np.float32) / 255.0"
   ]
  },
  {
   "cell_type": "code",
   "execution_count": 4,
   "metadata": {},
   "outputs": [],
   "source": [
    "# CNN 모델 구축\n",
    "cnn = Sequential()\n",
    "\n",
    "# 특징 추출기 Featur Extractor\n",
    "cnn.add(Conv2D(input_shape = (28, 28, 1), kernel_size = (3, 3), filters = 32, activation = 'relu')) # 형태, 크기, 필터 반드시 입력해야함. 필터개수가 32개, 필터 초기화는 내부적으로 Xavier/He 방식으로 자동 초기화\n",
    "cnn.add(Conv2D(kernel_size = (3, 3), filters = 64, activation = 'relu')) # 여기는 왜 필터 64개임?\n",
    "cnn.add(MaxPool2D(pool_size = (2, 2)))\n",
    "cnn.add(Dropout(0.25)) # 과적합 방지\n",
    "\n",
    "cnn.add(Flatten())\n",
    "cnn.add(Dense(128, activation = 'relu'))\n",
    "cnn.add(Dropout(0.5)) # 과적합 방지\n",
    "cnn.add(Dense(10, activation = 'softmax')) # 정답 노드와 동일한 10개로 정의"
   ]
  },
  {
   "cell_type": "code",
   "execution_count": 9,
   "metadata": {},
   "outputs": [
    {
     "name": "stdout",
     "output_type": "stream",
     "text": [
      "Epoch 1/30\n",
      "469/469 [==============================] - 32s 67ms/step - loss: 0.4742 - accuracy: 0.8517 - val_loss: 0.0536 - val_accuracy: 0.9836\n",
      "Epoch 2/30\n",
      "469/469 [==============================] - 32s 68ms/step - loss: 0.0894 - accuracy: 0.9729 - val_loss: 0.0382 - val_accuracy: 0.9883\n",
      "Epoch 3/30\n",
      "469/469 [==============================] - 32s 68ms/step - loss: 0.0644 - accuracy: 0.9804 - val_loss: 0.0349 - val_accuracy: 0.9872\n",
      "Epoch 4/30\n",
      "469/469 [==============================] - 31s 67ms/step - loss: 0.0520 - accuracy: 0.9838 - val_loss: 0.0322 - val_accuracy: 0.9896\n",
      "Epoch 5/30\n",
      "469/469 [==============================] - 31s 67ms/step - loss: 0.0445 - accuracy: 0.9866 - val_loss: 0.0303 - val_accuracy: 0.9911\n",
      "Epoch 6/30\n",
      "469/469 [==============================] - 31s 67ms/step - loss: 0.0392 - accuracy: 0.9875 - val_loss: 0.0309 - val_accuracy: 0.9902\n",
      "Epoch 7/30\n",
      "469/469 [==============================] - 31s 67ms/step - loss: 0.0329 - accuracy: 0.9897 - val_loss: 0.0266 - val_accuracy: 0.9913\n",
      "Epoch 8/30\n",
      "469/469 [==============================] - 31s 67ms/step - loss: 0.0309 - accuracy: 0.9903 - val_loss: 0.0315 - val_accuracy: 0.9908\n",
      "Epoch 9/30\n",
      "469/469 [==============================] - 31s 67ms/step - loss: 0.0271 - accuracy: 0.9911 - val_loss: 0.0287 - val_accuracy: 0.9918\n",
      "Epoch 10/30\n",
      "469/469 [==============================] - 31s 67ms/step - loss: 0.0234 - accuracy: 0.9929 - val_loss: 0.0251 - val_accuracy: 0.9929\n",
      "Epoch 11/30\n",
      "469/469 [==============================] - 31s 67ms/step - loss: 0.0231 - accuracy: 0.9925 - val_loss: 0.0275 - val_accuracy: 0.9918\n",
      "Epoch 12/30\n",
      "469/469 [==============================] - 31s 67ms/step - loss: 0.0210 - accuracy: 0.9935 - val_loss: 0.0250 - val_accuracy: 0.9928\n",
      "Epoch 13/30\n",
      "469/469 [==============================] - 32s 69ms/step - loss: 0.0185 - accuracy: 0.9939 - val_loss: 0.0276 - val_accuracy: 0.9920\n",
      "Epoch 14/30\n",
      "469/469 [==============================] - 32s 67ms/step - loss: 0.0181 - accuracy: 0.9937 - val_loss: 0.0267 - val_accuracy: 0.9929\n",
      "Epoch 15/30\n",
      "469/469 [==============================] - 32s 67ms/step - loss: 0.0182 - accuracy: 0.9943 - val_loss: 0.0315 - val_accuracy: 0.9915\n",
      "Epoch 16/30\n",
      "469/469 [==============================] - 32s 69ms/step - loss: 0.0172 - accuracy: 0.9941 - val_loss: 0.0275 - val_accuracy: 0.9924\n",
      "Epoch 17/30\n",
      "469/469 [==============================] - 34s 72ms/step - loss: 0.0152 - accuracy: 0.9951 - val_loss: 0.0314 - val_accuracy: 0.9923\n",
      "Epoch 18/30\n",
      "469/469 [==============================] - 35s 74ms/step - loss: 0.0144 - accuracy: 0.9950 - val_loss: 0.0324 - val_accuracy: 0.9924\n",
      "Epoch 19/30\n",
      "469/469 [==============================] - 34s 74ms/step - loss: 0.0157 - accuracy: 0.9947 - val_loss: 0.0296 - val_accuracy: 0.9924\n",
      "Epoch 20/30\n",
      "469/469 [==============================] - 34s 72ms/step - loss: 0.0129 - accuracy: 0.9955 - val_loss: 0.0282 - val_accuracy: 0.9930\n",
      "Epoch 21/30\n",
      "469/469 [==============================] - 34s 72ms/step - loss: 0.0135 - accuracy: 0.9955 - val_loss: 0.0289 - val_accuracy: 0.9925\n",
      "Epoch 22/30\n",
      "469/469 [==============================] - 34s 73ms/step - loss: 0.0126 - accuracy: 0.9959 - val_loss: 0.0325 - val_accuracy: 0.9928\n",
      "Epoch 23/30\n",
      "469/469 [==============================] - 35s 74ms/step - loss: 0.0119 - accuracy: 0.9958 - val_loss: 0.0291 - val_accuracy: 0.9924\n",
      "Epoch 24/30\n",
      "469/469 [==============================] - 34s 73ms/step - loss: 0.0095 - accuracy: 0.9968 - val_loss: 0.0271 - val_accuracy: 0.9937\n",
      "Epoch 25/30\n",
      "469/469 [==============================] - 34s 72ms/step - loss: 0.0113 - accuracy: 0.9962 - val_loss: 0.0321 - val_accuracy: 0.9925\n",
      "Epoch 26/30\n",
      "469/469 [==============================] - 35s 75ms/step - loss: 0.0115 - accuracy: 0.9964 - val_loss: 0.0326 - val_accuracy: 0.9925\n",
      "Epoch 27/30\n",
      "469/469 [==============================] - 32s 69ms/step - loss: 0.0107 - accuracy: 0.9960 - val_loss: 0.0302 - val_accuracy: 0.9935\n",
      "Epoch 28/30\n",
      "469/469 [==============================] - 32s 69ms/step - loss: 0.0094 - accuracy: 0.9966 - val_loss: 0.0356 - val_accuracy: 0.9927\n",
      "Epoch 29/30\n",
      "469/469 [==============================] - 32s 69ms/step - loss: 0.0089 - accuracy: 0.9970 - val_loss: 0.0330 - val_accuracy: 0.9926\n",
      "Epoch 30/30\n",
      "469/469 [==============================] - 32s 69ms/step - loss: 0.0106 - accuracy: 0.9964 - val_loss: 0.0350 - val_accuracy: 0.9932\n"
     ]
    }
   ],
   "source": [
    "# 모델 컴파일 및 학습\n",
    "cnn.compile(loss = 'sparse_categorical_crossentropy', optimizer = tf.keras.optimizers.Adam(), metrics = ['accuracy'])\n",
    "hist = cnn.fit(x_train, y_train, batch_size = 128, epochs = 30, validation_data = (x_test, y_test))"
   ]
  },
  {
   "cell_type": "code",
   "execution_count": 13,
   "metadata": {},
   "outputs": [
    {
     "name": "stdout",
     "output_type": "stream",
     "text": [
      "313/313 [==============================] - 1s 4ms/step - loss: 0.0350 - accuracy: 0.9932\n"
     ]
    },
    {
     "data": {
      "text/plain": [
       "[0.034954506903886795, 0.9932000041007996]"
      ]
     },
     "execution_count": 13,
     "metadata": {},
     "output_type": "execute_result"
    }
   ],
   "source": [
    "# 모델 평가\n",
    "cnn.evaluate(x_test, y_test)"
   ]
  },
  {
   "cell_type": "code",
   "execution_count": 11,
   "metadata": {},
   "outputs": [
    {
     "data": {
      "image/png": "[encoded data removed]",
      "text/plain": [
       "<Figure size 432x288 with 1 Axes>"
      ]
     },
     "metadata": {
      "needs_background": "light"
     },
     "output_type": "display_data"
    },
    {
     "data": {
      "image/png": "[encoded data removed]",
      "text/plain": [
       "<Figure size 432x288 with 1 Axes>"
      ]
     },
     "metadata": {
      "needs_background": "light"
     },
     "output_type": "display_data"
    }
   ],
   "source": [
    "# 정확도 및 손실\n",
    "import matplotlib.pyplot as plt\n",
    "\n",
    "plt.plot(hist.history['accuracy'])\n",
    "plt.plot(hist.history['val_accuracy'])\n",
    "plt.title('Accuracy Trend')\n",
    "plt.ylabel('accuracy')\n",
    "plt.xlabel('eopch')\n",
    "plt.legend(['train', 'validation'], loc = 'best')\n",
    "plt.grid()\n",
    "plt.show()\n",
    "\n",
    "plt.plot(hist.history['loss'])\n",
    "plt.plot(hist.history['val_loss'])\n",
    "plt.title('Loss Trend')\n",
    "plt.ylabel('loss')\n",
    "plt.xlabel('epoch')\n",
    "plt.legend(['train', 'validation'], loc = 'best')\n",
    "plt.grid()\n",
    "plt.show()"
   ]
  },
  {
   "cell_type": "code",
   "execution_count": null,
   "metadata": {},
   "outputs": [],
   "source": []
  }
 ],
 "metadata": {
  "kernelspec": {
   "display_name": "Python 3",
   "language": "python",
   "name": "python3"
  },
  "language_info": {
   "codemirror_mode": {
    "name": "ipython",
    "version": 3
   },
   "file_extension": ".py",
   "mimetype": "text/x-python",
   "name": "python",
   "nbconvert_exporter": "python",
   "pygments_lexer": "ipython3",
   "version": "3.8.3"
  }
 },
 "nbformat": 4,
 "nbformat_minor": 4
}
