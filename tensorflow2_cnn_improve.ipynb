{
 "cells": [
  {
   "cell_type": "code",
   "execution_count": null,
   "metadata": {},
   "outputs": [],
   "source": [
    "# cnn 성능 향상: 오버피팅 감소, 정확도 증가\n",
    "# 더 많은 레이어 쌓기: 컨볼루션 레이어가 중첩된 더 깊은 구조가 될수록 성능은 크게 개선됨\n",
    "# 이미지 데이터 보강: 많은 학습 데이터를 사용하면 성능을 개선시킬 수 있음. 기존 데이터가 있을 때, 해당 데이터를 원본으로 해서 다양한 변형(rotate, shear, zoom, shift, 등등)을 주고 이렇게 생성된 데이터를 원본 학습 데이터에 포함\n",
    "# 높은 해상도 데이터 확보: 동일한 cnn 구조라면, 상대적으로 높은 해상도의 학습데이터를 통해서 성능 개선\n",
    "# L1 Norm, L2 Norm 등의 가중치 규제, Dropout, 배치 정규화 등을 통해 성능 개선\n"
   ]
  }
 ],
 "metadata": {
  "kernelspec": {
   "display_name": "Python 3",
   "language": "python",
   "name": "python3"
  },
  "language_info": {
   "codemirror_mode": {
    "name": "ipython",
    "version": 3
   },
   "file_extension": ".py",
   "mimetype": "text/x-python",
   "name": "python",
   "nbconvert_exporter": "python",
   "pygments_lexer": "ipython3",
   "version": "3.8.3"
  }
 },
 "nbformat": 4,
 "nbformat_minor": 4
}
