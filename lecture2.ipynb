{
 "cells": [
  {
   "cell_type": "code",
   "execution_count": 1,
   "metadata": {},
   "outputs": [
    {
     "name": "stdout",
     "output_type": "stream",
     "text": [
      "6.000000000012662\n"
     ]
    }
   ],
   "source": [
    "# 수치미분 1차버전 numerical derivative\n",
    "\n",
    "def numerical_derivative(f, x):\n",
    "    delta_x = 1e-4 # 델타 값은 아주 미세한 값. 너무 작은 값을 입력하면 값이 안 나올 수 있음. 경험적으로 1e-4 정도를 사용\n",
    "    return (f(x+delta_x)-f(x-delta_x)) / (2*delta_x)\n",
    "\n",
    "def my_func1(x):\n",
    "    return x**2\n",
    "\n",
    "result = numerical_derivative(my_func1, 3)\n",
    "print(result)"
   ]
  },
  {
   "cell_type": "code",
   "execution_count": 3,
   "metadata": {},
   "outputs": [
    {
     "name": "stdout",
     "output_type": "stream",
     "text": [
      "66.50150507518049\n"
     ]
    }
   ],
   "source": [
    "# [예제2] f(x) = 3xe^x\n",
    "\n",
    "import numpy as np\n",
    "\n",
    "def my_func2(x):\n",
    "    return 3*x*(np.exp(x))\n",
    "\n",
    "result2 = numerical_derivative(my_func2, 2)\n",
    "print(result2)"
   ]
  },
  {
   "cell_type": "code",
   "execution_count": 20,
   "metadata": {},
   "outputs": [
    {
     "name": "stdout",
     "output_type": "stream",
     "text": [
      "grad =  [0.]\n",
      "it =  <numpy.nditer object at 0x0000021BC5492F30>\n",
      "idx =  (0,)\n",
      "tmp_val =  3.0\n",
      "fx1: 9.000600010000001\n",
      "fx2: 8.999400009999999\n",
      "grad =  [6.]\n"
     ]
    },
    {
     "data": {
      "text/plain": [
       "array([6.])"
      ]
     },
     "execution_count": 20,
     "metadata": {},
     "output_type": "execute_result"
    }
   ],
   "source": [
    "# 다변수함수의 경우 입력변수는 서로 독립적이기 때문에 수치미분 또한 변수의 개수만큼 개별적으로 계산해야 함\n",
    "\n",
    "# [예] f(x,y) : f'(1, 2) 값을 계산하기 위해서는 1) x=1에서의 미분계수는 변수 y=2를 상수로 대입하여 미분하고, 2) y=2에서의 미분계수 또한 변수 x=1을 상수로 대입하여 미분, f'(1,2)=(8,15) 이런식으로 표현\n",
    "\n",
    "import numpy as np\n",
    "\n",
    "def numerical_derivative(f, x): # f는 다변수함수, x는 모든 변수를 포함하고 있는 numpy 객체(배열, 행렬)\n",
    "    delta_x = 1e-4\n",
    "    grad = np.zeros_like(x) # 우리가 계산한 수치미분 값을 저장, 입력으로 들어온 x에 맞추어, 현재 0으로 초기화\n",
    "    print(\"grad = \", grad)\n",
    "    it = np.nditer(x, flags=['multi_index'], op_flags=['readwrite']) # 모든 입력변수에 대해 편미분하기 위해 iterator 획득, np의 모든 원소를 가리키기 위해?\n",
    "    print(\"it = \", it)\n",
    "    \n",
    "    while not it.finished: # 변수 개수만큼 반복\n",
    "        idx = it.multi_index\n",
    "        print(\"idx = \", idx)\n",
    "        \n",
    "        tmp_val = x[idx] # np 타입은 mutable 이므로 원래값 보관\n",
    "        print(\"tmp_val = \", tmp_val)\n",
    "        \n",
    "        # 하나의 변수에 대한 수치미분 계산\n",
    "        x[idx] = float(tmp_val) + delta_x \n",
    "        fx1 = f(x) # f(x+delta_x)\n",
    "        print(\"fx1:\", fx1)\n",
    "        \n",
    "        x[idx] = tmp_val - delta_x\n",
    "        fx2 = f(x) # f(x-delta_x)\n",
    "        print(\"fx2:\", fx2)\n",
    "        \n",
    "        grad[idx] = (fx1 - fx2) / (2*delta_x)\n",
    "        \n",
    "        x[idx] = tmp_val # 보관되어 있던 원래값 다시 가져옴값 다시 가져옴\n",
    "        it.iternext() \n",
    "        print(\"grad = \", grad)\n",
    "        \n",
    "    return grad\n",
    "\n",
    "def func1(input_obj): # input_obj: 벡터나 행렬을 나타내는 np 객체, 수치미분함수에서 두 번째 객체를 x로 받기 때문에~\n",
    "    x = input_obj[0]\n",
    "    return x**2\n",
    "\n",
    "numerical_derivative(func1, np.array([3.0]))"
   ]
  },
  {
   "cell_type": "code",
   "execution_count": 21,
   "metadata": {},
   "outputs": [
    {
     "name": "stdout",
     "output_type": "stream",
     "text": [
      "grad =  [0. 0.]\n",
      "it =  <numpy.nditer object at 0x0000021BC5492F30>\n",
      "idx =  (0,)\n",
      "tmp_val =  1.0\n",
      "fx1: 16.000799999999998\n",
      "fx2: 15.9992\n",
      "grad =  [8. 0.]\n",
      "idx =  (1,)\n",
      "tmp_val =  2.0\n",
      "fx1: 16.001500060001003\n",
      "fx2: 15.998500059999\n",
      "grad =  [ 8.         15.00000001]\n"
     ]
    },
    {
     "data": {
      "text/plain": [
       "array([ 8.        , 15.00000001])"
      ]
     },
     "execution_count": 21,
     "metadata": {},
     "output_type": "execute_result"
    }
   ],
   "source": [
    "def func2(input_obj):\n",
    "    x = input_obj[0]\n",
    "    y = input_obj[1]\n",
    "    return 2*x + 3*x*y + y**3 # np.power(y,3) 다른 표현\n",
    "\n",
    "input = np.array([1.0, 2.0])\n",
    "\n",
    "result3 = numerical_derivative(func2, input)\n",
    "result3"
   ]
  },
  {
   "cell_type": "code",
   "execution_count": 24,
   "metadata": {},
   "outputs": [
    {
     "name": "stdout",
     "output_type": "stream",
     "text": [
      "grad =  [[0. 0.]\n",
      " [0. 0.]]\n",
      "it =  <numpy.nditer object at 0x0000021BC54B28F0>\n",
      "idx =  (0, 0)\n",
      "tmp_val =  1.0\n",
      "fx1: 65.0005\n",
      "fx2: 64.9995\n",
      "grad =  [[5. 0.]\n",
      " [0. 0.]]\n",
      "idx =  (0, 1)\n",
      "tmp_val =  2.0\n",
      "fx1: 65.0013\n",
      "fx2: 64.9987\n",
      "grad =  [[ 5. 13.]\n",
      " [ 0.  0.]]\n",
      "idx =  (1, 0)\n",
      "tmp_val =  3.0\n",
      "fx1: 65.00320004000001\n",
      "fx2: 64.99680004\n",
      "grad =  [[ 5. 13.]\n",
      " [32.  0.]]\n",
      "idx =  (1, 1)\n",
      "tmp_val =  4.0\n",
      "fx1: 65.0015\n",
      "fx2: 64.99849999999999\n",
      "grad =  [[ 5. 13.]\n",
      " [32. 15.]]\n"
     ]
    },
    {
     "data": {
      "text/plain": [
       "array([[ 5., 13.],\n",
       "       [32., 15.]])"
      ]
     },
     "execution_count": 24,
     "metadata": {},
     "output_type": "execute_result"
    }
   ],
   "source": [
    "def func3(input_obj):\n",
    "    w=input_obj[0,0]\n",
    "    x=input_obj[0,1]\n",
    "    y=input_obj[1,0]\n",
    "    z=input_obj[1,1]\n",
    "    \n",
    "    return( w*x + x*y*z + 3*w + z*np.power(y,2))\n",
    "\n",
    "input = np.array([[1.0, 2.0], [3.0, 4.0]])\n",
    "numerical_derivative(func3,input)"
   ]
  },
  {
   "cell_type": "code",
   "execution_count": null,
   "metadata": {},
   "outputs": [],
   "source": []
  }
 ],
 "metadata": {
  "kernelspec": {
   "display_name": "Python 3",
   "language": "python",
   "name": "python3"
  },
  "language_info": {
   "codemirror_mode": {
    "name": "ipython",
    "version": 3
   },
   "file_extension": ".py",
   "mimetype": "text/x-python",
   "name": "python",
   "nbconvert_exporter": "python",
   "pygments_lexer": "ipython3",
   "version": "3.8.3"
  }
 },
 "nbformat": 4,
 "nbformat_minor": 4
}
