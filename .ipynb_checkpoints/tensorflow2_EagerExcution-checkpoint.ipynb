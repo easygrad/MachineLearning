{
 "cells": [
  {
   "cell_type": "code",
   "execution_count": 1,
   "metadata": {},
   "outputs": [
    {
     "data": {
      "text/plain": [
       "'2.4.1'"
      ]
     },
     "execution_count": 1,
     "metadata": {},
     "output_type": "execute_result"
    }
   ],
   "source": [
    "import tensorflow as tf\n",
    "import numpy as np\n",
    "tf.__version__"
   ]
  },
  {
   "cell_type": "code",
   "execution_count": 4,
   "metadata": {},
   "outputs": [
    {
     "name": "stdout",
     "output_type": "stream",
     "text": [
      "<class 'tensorflow.python.framework.ops.EagerTensor'>\n",
      "tf.Tensor(30, shape=(), dtype=int32)\n",
      "<class 'numpy.int32'>\n",
      "30\n"
     ]
    }
   ],
   "source": [
    "a = tf.constant(10)\n",
    "b = tf.constant(20)\n",
    "\n",
    "c = a+b\n",
    "d = (a+b).numpy() # numpy()메서드는 numpy값을 리턴\n",
    "\n",
    "print(type(c))\n",
    "print(c)\n",
    "print(type(d))\n",
    "print(d)"
   ]
  },
  {
   "cell_type": "code",
   "execution_count": 3,
   "metadata": {},
   "outputs": [
    {
     "name": "stdout",
     "output_type": "stream",
     "text": [
      "<class 'tensorflow.python.framework.ops.EagerTensor'>\n",
      "tf.Tensor(30, shape=(), dtype=int32)\n"
     ]
    }
   ],
   "source": [
    "d_numpy_to_tensor = tf.convert_to_tensor(d) # tf.convert_to_tensor() 메서드는 numpy 값을 tensor 값으로 변환\n",
    "\n",
    "print(type(d_numpy_to_tensor))\n",
    "print(d_numpy_to_tensor)"
   ]
  },
  {
   "cell_type": "code",
   "execution_count": 5,
   "metadata": {},
   "outputs": [],
   "source": [
    "# 1.x버전에서는 계산그래프를 선언하고, 세션을 통해 텐서를 주고 받으며 계산하는 구조였으나\n",
    "# 2.x버전에서는 자동으로 Eager Execution(즉시실행모드) 적용되기 때문에 그래프와 세션을 만들지 않아도 텐서값을 계산하고 numpy() 함수를 이용하면 파이썬의 넘파이 타입으로 변환할 수 있음"
   ]
  },
  {
   "cell_type": "code",
   "execution_count": 6,
   "metadata": {},
   "outputs": [
    {
     "name": "stdout",
     "output_type": "stream",
     "text": [
      "initial W =  [0.177676]\n",
      "====================\n",
      "step =  0 , W =  [1.177676]\n",
      "step =  1 , W =  [2.177676]\n"
     ]
    }
   ],
   "source": [
    "# 변수\n",
    "W = tf.Variable(tf.random.normal([1])) # 가우시안 분포\n",
    "print('initial W = ', W.numpy())\n",
    "print('='*20)\n",
    "\n",
    "for step in range(2):\n",
    "    W = W + 1.0 # 변수 초기화 없이 즉시 실행\n",
    "    print('step = ', step, ', W = ', W.numpy())"
   ]
  },
  {
   "cell_type": "code",
   "execution_count": null,
   "metadata": {},
   "outputs": [],
   "source": []
  }
 ],
 "metadata": {
  "kernelspec": {
   "display_name": "Python 3",
   "language": "python",
   "name": "python3"
  },
  "language_info": {
   "codemirror_mode": {
    "name": "ipython",
    "version": 3
   },
   "file_extension": ".py",
   "mimetype": "text/x-python",
   "name": "python",
   "nbconvert_exporter": "python",
   "pygments_lexer": "ipython3",
   "version": "3.8.3"
  }
 },
 "nbformat": 4,
 "nbformat_minor": 4
}
