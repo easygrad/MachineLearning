{
 "cells": [
  {
   "cell_type": "code",
   "execution_count": 1,
   "metadata": {},
   "outputs": [
    {
     "name": "stdout",
     "output_type": "stream",
     "text": [
      "Model: \"sequential\"\n",
      "_________________________________________________________________\n",
      "Layer (type)                 Output Shape              Param #   \n",
      "=================================================================\n",
      "flatten (Flatten)            (None, 784)               0         \n",
      "_________________________________________________________________\n",
      "dense (Dense)                (None, 100)               78500     \n",
      "_________________________________________________________________\n",
      "dense_1 (Dense)              (None, 10)                1010      \n",
      "=================================================================\n",
      "Total params: 79,510\n",
      "Trainable params: 79,510\n",
      "Non-trainable params: 0\n",
      "_________________________________________________________________\n"
     ]
    }
   ],
   "source": [
    "import tensorflow as tf\n",
    "import numpy as np\n",
    "from tensorflow.keras.datasets import fashion_mnist\n",
    "\n",
    "(x_train, t_train), (x_test, t_test) = fashion_mnist.load_data()\n",
    "\n",
    "x_train = (x_train - 0.0) / (255.0 - 0.0)\n",
    "x_test = (x_test - 0.0) / (255.0 - 0.0)\n",
    "\n",
    "t_train = tf.keras.utils.to_categorical(t_train, num_classes=10)\n",
    "t_test = tf.keras.utils.to_categorical(t_test, num_classes=10)\n",
    "\n",
    "model = tf.keras.Sequential()\n",
    "model.add(tf.keras.layers.Flatten(input_shape=(28,28)))\n",
    "model.add(tf.keras.layers.Dense(100, activation='relu'))\n",
    "model.add(tf.keras.layers.Dense(10, activation='softmax'))\n",
    "\n",
    "model.compile(optimizer=tf.keras.optimizers.Adam(learning_rate=1e-3), loss='categorical_crossentropy', metrics=['accuracy'])\n",
    "model.summary()"
   ]
  },
  {
   "cell_type": "code",
   "execution_count": 2,
   "metadata": {},
   "outputs": [
    {
     "name": "stdout",
     "output_type": "stream",
     "text": [
      "Epoch 1/30\n",
      "1313/1313 [==============================] - 2s 1ms/step - loss: 0.6873 - accuracy: 0.7694 - val_loss: 0.4566 - val_accuracy: 0.8358\n",
      "Epoch 2/30\n",
      "1313/1313 [==============================] - 1s 645us/step - loss: 0.4056 - accuracy: 0.8588 - val_loss: 0.3827 - val_accuracy: 0.8618\n",
      "Epoch 3/30\n",
      "1313/1313 [==============================] - 1s 642us/step - loss: 0.3674 - accuracy: 0.8670 - val_loss: 0.3972 - val_accuracy: 0.8549\n",
      "Epoch 4/30\n",
      "1313/1313 [==============================] - 1s 623us/step - loss: 0.3311 - accuracy: 0.8810 - val_loss: 0.3780 - val_accuracy: 0.8624\n",
      "Epoch 5/30\n",
      "1313/1313 [==============================] - 1s 619us/step - loss: 0.3059 - accuracy: 0.8885 - val_loss: 0.3373 - val_accuracy: 0.8797\n",
      "Epoch 6/30\n",
      "1313/1313 [==============================] - 1s 627us/step - loss: 0.3003 - accuracy: 0.8892 - val_loss: 0.3490 - val_accuracy: 0.8765\n",
      "Epoch 7/30\n",
      "1313/1313 [==============================] - 1s 642us/step - loss: 0.2840 - accuracy: 0.8960 - val_loss: 0.3303 - val_accuracy: 0.8844\n",
      "Epoch 8/30\n",
      "1313/1313 [==============================] - 1s 638us/step - loss: 0.2732 - accuracy: 0.8986 - val_loss: 0.3287 - val_accuracy: 0.8851\n",
      "Epoch 9/30\n",
      "1313/1313 [==============================] - 1s 629us/step - loss: 0.2598 - accuracy: 0.9040 - val_loss: 0.3375 - val_accuracy: 0.8781\n",
      "Epoch 10/30\n",
      "1313/1313 [==============================] - 1s 620us/step - loss: 0.2454 - accuracy: 0.9087 - val_loss: 0.3352 - val_accuracy: 0.8822\n",
      "Epoch 11/30\n",
      "1313/1313 [==============================] - 1s 632us/step - loss: 0.2422 - accuracy: 0.9074 - val_loss: 0.3242 - val_accuracy: 0.8868\n",
      "Epoch 12/30\n",
      "1313/1313 [==============================] - 1s 648us/step - loss: 0.2300 - accuracy: 0.9146 - val_loss: 0.3385 - val_accuracy: 0.8807\n",
      "Epoch 13/30\n",
      "1313/1313 [==============================] - 1s 649us/step - loss: 0.2272 - accuracy: 0.9152 - val_loss: 0.3394 - val_accuracy: 0.8844\n",
      "Epoch 14/30\n",
      "1313/1313 [==============================] - 1s 626us/step - loss: 0.2202 - accuracy: 0.9156 - val_loss: 0.3375 - val_accuracy: 0.8839\n",
      "Epoch 15/30\n",
      "1313/1313 [==============================] - 1s 639us/step - loss: 0.2156 - accuracy: 0.9175 - val_loss: 0.3323 - val_accuracy: 0.8868\n",
      "Epoch 16/30\n",
      "1313/1313 [==============================] - 1s 627us/step - loss: 0.2097 - accuracy: 0.9231 - val_loss: 0.3564 - val_accuracy: 0.8834\n",
      "Epoch 17/30\n",
      "1313/1313 [==============================] - 1s 626us/step - loss: 0.1978 - accuracy: 0.9241 - val_loss: 0.3420 - val_accuracy: 0.8846\n",
      "Epoch 18/30\n",
      "1313/1313 [==============================] - 1s 623us/step - loss: 0.1955 - accuracy: 0.9286 - val_loss: 0.3280 - val_accuracy: 0.8892\n",
      "Epoch 19/30\n",
      "1313/1313 [==============================] - 1s 636us/step - loss: 0.1891 - accuracy: 0.9292 - val_loss: 0.3540 - val_accuracy: 0.8866\n",
      "Epoch 20/30\n",
      "1313/1313 [==============================] - 1s 626us/step - loss: 0.1846 - accuracy: 0.9298 - val_loss: 0.3385 - val_accuracy: 0.8898\n",
      "Epoch 21/30\n",
      "1313/1313 [==============================] - 1s 629us/step - loss: 0.1834 - accuracy: 0.9300 - val_loss: 0.3414 - val_accuracy: 0.8898\n",
      "Epoch 22/30\n",
      "1313/1313 [==============================] - 1s 627us/step - loss: 0.1776 - accuracy: 0.9348 - val_loss: 0.3504 - val_accuracy: 0.8909\n",
      "Epoch 23/30\n",
      "1313/1313 [==============================] - 1s 637us/step - loss: 0.1691 - accuracy: 0.9355 - val_loss: 0.3443 - val_accuracy: 0.8931\n",
      "Epoch 24/30\n",
      "1313/1313 [==============================] - 1s 632us/step - loss: 0.1683 - accuracy: 0.9367 - val_loss: 0.3404 - val_accuracy: 0.8918\n",
      "Epoch 25/30\n",
      "1313/1313 [==============================] - 1s 645us/step - loss: 0.1627 - accuracy: 0.9376 - val_loss: 0.3600 - val_accuracy: 0.8911\n",
      "Epoch 26/30\n",
      "1313/1313 [==============================] - 1s 620us/step - loss: 0.1590 - accuracy: 0.9403 - val_loss: 0.3509 - val_accuracy: 0.8897\n",
      "Epoch 27/30\n",
      "1313/1313 [==============================] - 1s 626us/step - loss: 0.1603 - accuracy: 0.9392 - val_loss: 0.3647 - val_accuracy: 0.8917\n",
      "Epoch 28/30\n",
      "1313/1313 [==============================] - 1s 629us/step - loss: 0.1514 - accuracy: 0.9430 - val_loss: 0.3761 - val_accuracy: 0.8873\n",
      "Epoch 29/30\n",
      "1313/1313 [==============================] - 1s 625us/step - loss: 0.1478 - accuracy: 0.9445 - val_loss: 0.3831 - val_accuracy: 0.8868\n",
      "Epoch 30/30\n",
      "1313/1313 [==============================] - 1s 622us/step - loss: 0.1495 - accuracy: 0.9439 - val_loss: 0.3711 - val_accuracy: 0.8916\n"
     ]
    }
   ],
   "source": [
    "hist = model.fit(x_train, t_train, epochs=30, validation_split=0.3)"
   ]
  },
  {
   "cell_type": "code",
   "execution_count": 3,
   "metadata": {},
   "outputs": [
    {
     "name": "stdout",
     "output_type": "stream",
     "text": [
      "313/313 [==============================] - 0s 355us/step - loss: 0.4090 - accuracy: 0.8802\n"
     ]
    },
    {
     "data": {
      "text/plain": [
       "[0.40902745723724365, 0.8802000284194946]"
      ]
     },
     "execution_count": 3,
     "metadata": {},
     "output_type": "execute_result"
    }
   ],
   "source": [
    "model.evaluate(x_test, t_test)"
   ]
  },
  {
   "cell_type": "code",
   "execution_count": 6,
   "metadata": {},
   "outputs": [
    {
     "data": {
      "image/png": "[encoded data removed]",
      "text/plain": [
       "<Figure size 432x432 with 2 Axes>"
      ]
     },
     "metadata": {
      "needs_background": "light"
     },
     "output_type": "display_data"
    }
   ],
   "source": [
    "import matplotlib.pyplot as plt\n",
    "from sklearn.metrics import confusion_matrix\n",
    "import seaborn as sns\n",
    "\n",
    "plt.figure(figsize=(6, 6))\n",
    "\n",
    "predicted_value = model.predict(x_test) # 테스트 입력데이터에 대한 prediction 실행, \n",
    "cm = confusion_matrix(np.argmax(t_test, axis=-1), np.argmax(predicted_value, axis=-1)) # 테스트데이터 정답과 비교, 원핫인코딩이 아니기 때문에 argmax 사용하지 않음, 정답은 10진수로 표현\n",
    "\n",
    "sns.heatmap(cm, annot=True, fmt='d')\n",
    "plt.show()"
   ]
  },
  {
   "cell_type": "code",
   "execution_count": null,
   "metadata": {},
   "outputs": [],
   "source": []
  }
 ],
 "metadata": {
  "kernelspec": {
   "display_name": "Python 3",
   "language": "python",
   "name": "python3"
  },
  "language_info": {
   "codemirror_mode": {
    "name": "ipython",
    "version": 3
   },
   "file_extension": ".py",
   "mimetype": "text/x-python",
   "name": "python",
   "nbconvert_exporter": "python",
   "pygments_lexer": "ipython3",
   "version": "3.8.3"
  }
 },
 "nbformat": 4,
 "nbformat_minor": 4
}
